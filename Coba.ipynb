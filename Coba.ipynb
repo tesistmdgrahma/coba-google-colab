{
  "nbformat": 4,
  "nbformat_minor": 0,
  "metadata": {
    "colab": {
      "name": "Coba.ipynb",
      "provenance": [],
      "authorship_tag": "ABX9TyPlK7/pMQgZJU6BrJ1Bu4WA",
      "include_colab_link": true
    },
    "kernelspec": {
      "name": "python3",
      "display_name": "Python 3"
    }
  },
  "cells": [
    {
      "cell_type": "markdown",
      "metadata": {
        "id": "view-in-github",
        "colab_type": "text"
      },
      "source": [
        "<a href=\"https://colab.research.google.com/github/tesistmdgrahma/coba-google-colab/blob/main/Coba.ipynb\" target=\"_parent\"><img src=\"https://colab.research.google.com/assets/colab-badge.svg\" alt=\"Open In Colab\"/></a>"
      ]
    },
    {
      "cell_type": "code",
      "metadata": {
        "colab": {
          "base_uri": "https://localhost:8080/"
        },
        "id": "MaLjFc3O8HCA",
        "outputId": "97c4af8a-928f-4842-eb6c-325a25ec811b"
      },
      "source": [
        "print (\"coba\")"
      ],
      "execution_count": null,
      "outputs": [
        {
          "output_type": "stream",
          "text": [
            "coba\n"
          ],
          "name": "stdout"
        }
      ]
    }
  ]
}